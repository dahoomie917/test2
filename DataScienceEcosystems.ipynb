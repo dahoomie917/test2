{
 "cells": [
  {
   "cell_type": "markdown",
   "id": "eb388ec7-ac1a-4d99-a44f-babff74c9269",
   "metadata": {},
   "source": [
    "# Data science tools and ecosystem "
   ]
  },
  {
   "cell_type": "markdown",
   "id": "c4a7e73f-e0bb-4be9-a14a-96f1051c9b01",
   "metadata": {},
   "source": [
    "In this notebook, Data Science Tools and Ecosystem are summarized."
   ]
  },
  {
   "cell_type": "markdown",
   "id": "08a80990-5943-4974-b817-e6b3456594dc",
   "metadata": {},
   "source": [
    "**Objectives:**\n",
    "- Python\n",
    "- Java\n",
    "- R\n",
    "- SQL"
   ]
  },
  {
   "cell_type": "markdown",
   "id": "5711f5c5-503b-43a9-bfb6-b327af626134",
   "metadata": {},
   "source": [
    "Some of the popular languages that Data Scientists use are:\n",
    "1. Python\n",
    "2. Java\n",
    "3. R"
   ]
  },
  {
   "cell_type": "markdown",
   "id": "d0e1b719-1ed9-45f9-b072-3dc32c738b6b",
   "metadata": {},
   "source": [
    "Some of the commonly used libraries used by Data Scientists include:\n",
    "1. Tensorflow\n",
    "2. Pandas\n",
    "3. Seaborn"
   ]
  },
  {
   "cell_type": "markdown",
   "id": "5139e517-fd93-4b8e-b189-8c7ad4d51b75",
   "metadata": {},
   "source": [
    "|Data Science Tools|\n",
    "|------------------|\n",
    "|Jupyter Notebooks|\n",
    "|PyTorch|\n",
    "|RStudio|"
   ]
  },
  {
   "cell_type": "markdown",
   "id": "198df68f-8634-4f63-828f-1805e4e92ad7",
   "metadata": {},
   "source": [
    "### Below are a few examples of evaluating arithmetic expressions in Python"
   ]
  },
  {
   "cell_type": "code",
   "execution_count": 7,
   "id": "7416ffed-a0b5-4f78-b552-3bb6326bb87e",
   "metadata": {
    "tags": []
   },
   "outputs": [
    {
     "data": {
      "text/plain": [
       "17"
      ]
     },
     "execution_count": 7,
     "metadata": {},
     "output_type": "execute_result"
    }
   ],
   "source": [
    "# This a simple arithmetic expression to mutiply then add integers\n",
    "result = (3*4)+5\n",
    "result"
   ]
  },
  {
   "cell_type": "code",
   "execution_count": 8,
   "id": "6f568526-68ea-45a2-9f4a-01f6c8f3c309",
   "metadata": {},
   "outputs": [
    {
     "data": {
      "text/plain": [
       "3.3333333333333335"
      ]
     },
     "execution_count": 8,
     "metadata": {},
     "output_type": "execute_result"
    }
   ],
   "source": [
    "# This will convert 200 minutes to hours by diving by 60\n",
    "result = 200 / 60\n",
    "result"
   ]
  },
  {
   "cell_type": "markdown",
   "id": "b570271e-bb54-46d8-95a9-ddb8a792c168",
   "metadata": {},
   "source": [
    "## Author\n",
    "Travis Atson"
   ]
  },
  {
   "cell_type": "code",
   "execution_count": null,
   "id": "e5efa640-ce55-472c-8e49-59530a12f225",
   "metadata": {},
   "outputs": [],
   "source": []
  }
 ],
 "metadata": {
  "kernelspec": {
   "display_name": "Python 3 (ipykernel)",
   "language": "python",
   "name": "python3"
  },
  "language_info": {
   "codemirror_mode": {
    "name": "ipython",
    "version": 3
   },
   "file_extension": ".py",
   "mimetype": "text/x-python",
   "name": "python",
   "nbconvert_exporter": "python",
   "pygments_lexer": "ipython3",
   "version": "3.9.7"
  }
 },
 "nbformat": 4,
 "nbformat_minor": 5
}
